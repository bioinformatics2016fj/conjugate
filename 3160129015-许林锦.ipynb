{
 "cells": [
  {
   "cell_type": "code",
   "execution_count": 1,
   "metadata": {},
   "outputs": [
    {
     "data": {
      "text/plain": [
       "ConjugateGradientFSO (generic function with 1 method)"
      ]
     },
     "execution_count": 1,
     "metadata": {},
     "output_type": "execute_result"
    }
   ],
   "source": [
    "norm(x)=sqrt(x'*x)\n",
    "function ConjugateGradientFSO(f, g, h, x0; \n",
    "        ϵx=0.01, # precision for step size\n",
    "        ϵf=0.01, \n",
    "        ϵg=0.01, \n",
    "        debug=false) \n",
    "    #check aoguments\n",
    "    n,m=size(h)\n",
    "    if n≠m\n",
    "        error(\"ERROR:Hfeizhengding\")\n",
    "    end\n",
    "    steps=[]\n",
    "    \n",
    "    maxIterations=n\n",
    "    xk = x0\n",
    "    fk = f(xk...)\n",
    "    gk = g(xk...)\n",
    "    rk = -gk\n",
    "    dk = rk\n",
    "    dh = dk'*h*dk\n",
    "    α = -dk'*rk/dh\n",
    "    δ = α.*dk\n",
    "    xn = xk.+δ\n",
    "    xk = xn\n",
    "    fn = f(xn...)\n",
    "    gn = g(xn...)\n",
    "    rn = -gn\n",
    "    βn= dk'*h*rn/dh\n",
    "    dn = rn.-βn.*dk\n",
    "    \n",
    "    push!(steps, xk)\n",
    "    \n",
    "    if (norm(gk)<=ϵg)\n",
    "        println(\"Convergence is reached after 1 iteration.\")\n",
    "        return xk, fk, gk, steps\n",
    "    end\n",
    "    \n",
    "    for i in 2:maxIterations\n",
    "        # iteration\n",
    "        xn = xk .+ δ\n",
    "        push!(steps, xn)\n",
    "        \n",
    "        fn = f(xn...)\n",
    "        gn = g(xn...)\n",
    "        rn = -gn\n",
    "        βn= dk'*h*rn/dh\n",
    "        dn = rn.-βn.*dk\n",
    "        dh = dn'*h*dn  #步长\n",
    "        α = -dn'*rn/dh\n",
    "        δ = α.*d\n",
    "        xn = xk.+δ\n",
    "        \n",
    "        # convegence?\n",
    "        #println(\"gn=\",gn)\n",
    "        #if (norm(δ)<=ϵx)&&(abs(fn-fk)<=ϵf)&&(norm(d)<=ϵg)\n",
    "        if (norm(gn)<=ϵg)\n",
    "            println(\"Convergence is reached after \", i, \" iterations.\")\n",
    "            return xn, fn, gn, steps\n",
    "        end\n",
    "            xk = xn\n",
    "            fk = fn\n",
    "            dk = dn\n",
    "        \n",
    "        if debug\n",
    "            println(\"i=\",i,\" x=\", xn, \" α=\", α, \" β=\", βn, \" gn=\", gn, \" d=\", dn, \" δ= \",δ)\n",
    "        end\n",
    "    end\n",
    "    #println(\"WARN:\", maxIterations, \" iterations have been exceeded!\")\n",
    "end"
   ]
  },
  {
   "cell_type": "markdown",
   "metadata": {},
   "source": [
    "     b=15\n",
    "函数 f(x)=1/2[x1 x2][2 3;3 19][x1;x2]-[1 15][x1;x2]\n",
    "     =x1^2+19/2x2^2+3x1*x2-x1-15x2"
   ]
  },
  {
   "cell_type": "code",
   "execution_count": 2,
   "metadata": {},
   "outputs": [
    {
     "ename": "UndefVarError",
     "evalue": "UndefVarError: d not defined",
     "output_type": "error",
     "traceback": [
      "UndefVarError: d not defined",
      "",
      "Stacktrace:",
      " [1] #ConjugateGradientFSO#3(::Float64, ::Float64, ::Float64, ::Bool, ::Function, ::Function, ::Function, ::Array{Int64,2}, ::Array{Float64,1}) at .\\In[1]:50",
      " [2] (::getfield(Main, Symbol(\"#kw##ConjugateGradientFSO\")))(::NamedTuple{(:debug,),Tuple{Bool}}, ::typeof(ConjugateGradientFSO), ::Function, ::Function, ::Array{Int64,2}, ::Array{Float64,1}) at .\\none:0",
      " [3] top-level scope at In[2]:1"
     ]
    }
   ],
   "source": [
    "ConjugateGradientFSO(\n",
    "    (x,y)->x^2+19/2y^2+3*x*y-x-15*y,\n",
    "    (x,y)->[2*x+3*y-1, 3*x+19*y-15],\n",
    "    [2 3; 3 19],\n",
    "    [1.,1.],\n",
    "    debug=false\n",
    ")"
   ]
  },
  {
   "cell_type": "code",
   "execution_count": null,
   "metadata": {},
   "outputs": [],
   "source": [
    "using Gadfly"
   ]
  },
  {
   "cell_type": "code",
   "execution_count": null,
   "metadata": {},
   "outputs": [],
   "source": [
    "proc=layer(\n",
    "    x=[steps[i][1] for i in 1:length(steps)],\n",
    "    y=[steps[i][2] for i in 1:length(steps)],\n",
    "    label=[string(i) for i in 1:length(steps)],\n",
    "    Geom.point, Geom.line, Geom.label);\n",
    "\n",
    "plot(fun, proc)"
   ]
  },
  {
   "cell_type": "code",
   "execution_count": null,
   "metadata": {},
   "outputs": [],
   "source": [
    "[(steps[i+2]-steps[i+1])'*h*(steps[i+1]-steps[i])  for i in 1:length(steps)-2]"
   ]
  }
 ],
 "metadata": {
  "kernelspec": {
   "display_name": "Julia 1.1.0",
   "language": "julia",
   "name": "julia-1.1"
  },
  "language_info": {
   "file_extension": ".jl",
   "mimetype": "application/julia",
   "name": "julia",
   "version": "1.1.0"
  }
 },
 "nbformat": 4,
 "nbformat_minor": 2
}
